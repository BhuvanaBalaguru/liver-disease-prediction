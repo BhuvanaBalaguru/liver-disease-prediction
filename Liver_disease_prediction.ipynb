{
  "cells": [
    {
      "cell_type": "code",
      "execution_count": null,
      "id": "06d2473a-52e8-44b0-87a7-c5b26a55cb68",
      "metadata": {
        "id": "06d2473a-52e8-44b0-87a7-c5b26a55cb68"
      },
      "outputs": [],
      "source": [
        "import pandas as pd\n",
        "import numpy as np\n",
        "import seaborn as sns\n",
        "import matplotlib.pyplot as plt\n",
        "import warnings\n",
        "import os\n",
        "from sklearn.linear_model import ElasticNet\n",
        "from sklearn.preprocessing import StandardScaler\n",
        "from sklearn.model_selection import train_test_split\n",
        "from imblearn.over_sampling import SMOTE\n",
        "warnings.filterwarnings('ignore')"
      ]
    },
    {
      "cell_type": "code",
      "execution_count": null,
      "id": "7cc00e0b-5c0b-4be6-b028-544885d964ba",
      "metadata": {
        "id": "7cc00e0b-5c0b-4be6-b028-544885d964ba"
      },
      "outputs": [],
      "source": [
        "# Load dataset\n",
        "directory = r\"C:\\Users\\Bhuvana\\Downloads\\indian_liver_patient.csv\"\n",
        "data = pd.read_csv(directory)"
      ]
    },
    {
      "cell_type": "code",
      "execution_count": null,
      "id": "dd1f789f-8e96-406b-95f2-7c561c4e393d",
      "metadata": {
        "id": "dd1f789f-8e96-406b-95f2-7c561c4e393d"
      },
      "outputs": [],
      "source": [
        "# Map target labels correctly\n",
        "data['Dataset'] = data['Dataset'].map({2: 0, 1: 1})"
      ]
    },
    {
      "cell_type": "code",
      "execution_count": null,
      "id": "9fd6b0ad-1759-4d0b-aec8-c54e21098f88",
      "metadata": {
        "id": "9fd6b0ad-1759-4d0b-aec8-c54e21098f88"
      },
      "outputs": [],
      "source": [
        "data['Gender'] = data['Gender'].apply(lambda x: 1 if x == 'Male' else 0)"
      ]
    },
    {
      "cell_type": "code",
      "execution_count": null,
      "id": "0b8299a0-4104-44d8-8a67-9649a65927ee",
      "metadata": {
        "id": "0b8299a0-4104-44d8-8a67-9649a65927ee",
        "outputId": "339127a0-ef86-4aef-9243-d3c6213f9a8b"
      },
      "outputs": [
        {
          "name": "stdout",
          "output_type": "stream",
          "text": [
            "Gender\n",
            "1    441\n",
            "0    142\n",
            "Name: count, dtype: int64\n"
          ]
        }
      ],
      "source": [
        "print(data['Gender'].value_counts())"
      ]
    },
    {
      "cell_type": "code",
      "execution_count": null,
      "id": "11d3ecd1-f661-4e43-bf36-c3929531d043",
      "metadata": {
        "id": "11d3ecd1-f661-4e43-bf36-c3929531d043",
        "outputId": "f3625fed-962b-431a-ebc5-741c3cb2ccca"
      },
      "outputs": [
        {
          "data": {
            "text/plain": [
              "(570, 11)"
            ]
          },
          "execution_count": 6,
          "metadata": {},
          "output_type": "execute_result"
        }
      ],
      "source": [
        "data = data.drop_duplicates()\n",
        "data.shape"
      ]
    },
    {
      "cell_type": "code",
      "execution_count": null,
      "id": "3689ef67-9b02-4bf4-9b63-44a23e8cbc0d",
      "metadata": {
        "id": "3689ef67-9b02-4bf4-9b63-44a23e8cbc0d",
        "outputId": "efe5275b-5549-4197-b7e3-94748514359c"
      },
      "outputs": [
        {
          "data": {
            "text/plain": [
              "(570, 11)"
            ]
          },
          "execution_count": 7,
          "metadata": {},
          "output_type": "execute_result"
        }
      ],
      "source": [
        "#data=data.dropna(how='any')\n",
        "data['Albumin_and_Globulin_Ratio'].fillna(data['Albumin_and_Globulin_Ratio'].mean(), inplace=True)\n",
        "\n",
        "data.shape"
      ]
    },
    {
      "cell_type": "code",
      "execution_count": null,
      "id": "e99ccace-52ff-4e34-a10d-8b11839aaa2b",
      "metadata": {
        "id": "e99ccace-52ff-4e34-a10d-8b11839aaa2b",
        "outputId": "e4626ccf-168c-44d3-8516-3a717a7dacb9"
      },
      "outputs": [
        {
          "data": {
            "text/plain": [
              "(568, 11)"
            ]
          },
          "execution_count": 8,
          "metadata": {},
          "output_type": "execute_result"
        }
      ],
      "source": [
        "data = data[data.Aspartate_Aminotransferase<=2500]\n",
        "data.shape"
      ]
    },
    {
      "cell_type": "code",
      "execution_count": null,
      "id": "277ac583-078e-42eb-91b0-8eb2a18791e6",
      "metadata": {
        "id": "277ac583-078e-42eb-91b0-8eb2a18791e6",
        "outputId": "f7d7a449-50a0-4f21-e08a-9ae0bf82f2ee"
      },
      "outputs": [
        {
          "data": {
            "text/html": [
              "<div>\n",
              "<style scoped>\n",
              "    .dataframe tbody tr th:only-of-type {\n",
              "        vertical-align: middle;\n",
              "    }\n",
              "\n",
              "    .dataframe tbody tr th {\n",
              "        vertical-align: top;\n",
              "    }\n",
              "\n",
              "    .dataframe thead th {\n",
              "        text-align: right;\n",
              "    }\n",
              "</style>\n",
              "<table border=\"1\" class=\"dataframe\">\n",
              "  <thead>\n",
              "    <tr style=\"text-align: right;\">\n",
              "      <th></th>\n",
              "      <th>Age</th>\n",
              "      <th>Gender</th>\n",
              "      <th>Total_Bilirubin</th>\n",
              "      <th>Direct_Bilirubin</th>\n",
              "      <th>Alkaline_Phosphotase</th>\n",
              "      <th>Alamine_Aminotransferase</th>\n",
              "      <th>Aspartate_Aminotransferase</th>\n",
              "      <th>Total_Protiens</th>\n",
              "      <th>Albumin</th>\n",
              "      <th>Albumin_and_Globulin_Ratio</th>\n",
              "      <th>Dataset</th>\n",
              "    </tr>\n",
              "  </thead>\n",
              "  <tbody>\n",
              "    <tr>\n",
              "      <th>0</th>\n",
              "      <td>65</td>\n",
              "      <td>0</td>\n",
              "      <td>0.7</td>\n",
              "      <td>0.1</td>\n",
              "      <td>187</td>\n",
              "      <td>16</td>\n",
              "      <td>18</td>\n",
              "      <td>6.8</td>\n",
              "      <td>3.3</td>\n",
              "      <td>0.90</td>\n",
              "      <td>1</td>\n",
              "    </tr>\n",
              "    <tr>\n",
              "      <th>1</th>\n",
              "      <td>62</td>\n",
              "      <td>1</td>\n",
              "      <td>10.9</td>\n",
              "      <td>5.5</td>\n",
              "      <td>699</td>\n",
              "      <td>64</td>\n",
              "      <td>100</td>\n",
              "      <td>7.5</td>\n",
              "      <td>3.2</td>\n",
              "      <td>0.74</td>\n",
              "      <td>1</td>\n",
              "    </tr>\n",
              "    <tr>\n",
              "      <th>2</th>\n",
              "      <td>62</td>\n",
              "      <td>1</td>\n",
              "      <td>7.3</td>\n",
              "      <td>4.1</td>\n",
              "      <td>490</td>\n",
              "      <td>60</td>\n",
              "      <td>68</td>\n",
              "      <td>7.0</td>\n",
              "      <td>3.3</td>\n",
              "      <td>0.89</td>\n",
              "      <td>1</td>\n",
              "    </tr>\n",
              "    <tr>\n",
              "      <th>3</th>\n",
              "      <td>58</td>\n",
              "      <td>1</td>\n",
              "      <td>1.0</td>\n",
              "      <td>0.4</td>\n",
              "      <td>182</td>\n",
              "      <td>14</td>\n",
              "      <td>20</td>\n",
              "      <td>6.8</td>\n",
              "      <td>3.4</td>\n",
              "      <td>1.00</td>\n",
              "      <td>1</td>\n",
              "    </tr>\n",
              "    <tr>\n",
              "      <th>4</th>\n",
              "      <td>72</td>\n",
              "      <td>1</td>\n",
              "      <td>3.9</td>\n",
              "      <td>2.0</td>\n",
              "      <td>195</td>\n",
              "      <td>27</td>\n",
              "      <td>59</td>\n",
              "      <td>7.3</td>\n",
              "      <td>2.4</td>\n",
              "      <td>0.40</td>\n",
              "      <td>1</td>\n",
              "    </tr>\n",
              "  </tbody>\n",
              "</table>\n",
              "</div>"
            ],
            "text/plain": [
              "   Age  Gender  Total_Bilirubin  Direct_Bilirubin  Alkaline_Phosphotase  \\\n",
              "0   65       0              0.7               0.1                   187   \n",
              "1   62       1             10.9               5.5                   699   \n",
              "2   62       1              7.3               4.1                   490   \n",
              "3   58       1              1.0               0.4                   182   \n",
              "4   72       1              3.9               2.0                   195   \n",
              "\n",
              "   Alamine_Aminotransferase  Aspartate_Aminotransferase  Total_Protiens  \\\n",
              "0                        16                          18             6.8   \n",
              "1                        64                         100             7.5   \n",
              "2                        60                          68             7.0   \n",
              "3                        14                          20             6.8   \n",
              "4                        27                          59             7.3   \n",
              "\n",
              "   Albumin  Albumin_and_Globulin_Ratio  Dataset  \n",
              "0      3.3                        0.90        1  \n",
              "1      3.2                        0.74        1  \n",
              "2      3.3                        0.89        1  \n",
              "3      3.4                        1.00        1  \n",
              "4      2.4                        0.40        1  "
            ]
          },
          "execution_count": 9,
          "metadata": {},
          "output_type": "execute_result"
        }
      ],
      "source": [
        "data.head()"
      ]
    },
    {
      "cell_type": "code",
      "execution_count": null,
      "id": "2efbf19d-bfdf-42aa-afa8-b04aa2f29355",
      "metadata": {
        "id": "2efbf19d-bfdf-42aa-afa8-b04aa2f29355",
        "outputId": "11cbc44d-3eb1-4525-b9b2-aaf30b793525"
      },
      "outputs": [
        {
          "data": {
            "text/plain": [
              "(568, 11)"
            ]
          },
          "execution_count": 10,
          "metadata": {},
          "output_type": "execute_result"
        }
      ],
      "source": [
        "data.shape"
      ]
    },
    {
      "cell_type": "code",
      "execution_count": null,
      "id": "95a5043f-91c7-4b28-b1dd-cb2d01a59b46",
      "metadata": {
        "id": "95a5043f-91c7-4b28-b1dd-cb2d01a59b46"
      },
      "outputs": [],
      "source": [
        "# Split features and target variable\n",
        "X = data.drop('Dataset', axis=1)\n",
        "y = data['Dataset']"
      ]
    },
    {
      "cell_type": "code",
      "execution_count": null,
      "id": "c96c3261-3bc8-44cd-970a-8b1559574168",
      "metadata": {
        "id": "c96c3261-3bc8-44cd-970a-8b1559574168"
      },
      "outputs": [],
      "source": [
        "# Split into training and test sets\n",
        "X_train, X_test, y_train, y_test = train_test_split(X, y, test_size=0.2, random_state=42, stratify=y)"
      ]
    },
    {
      "cell_type": "code",
      "execution_count": null,
      "id": "6177049c-26b6-4ebc-bfca-44af8e74e09a",
      "metadata": {
        "id": "6177049c-26b6-4ebc-bfca-44af8e74e09a",
        "outputId": "d89f9163-5c92-4e08-8d59-d862deab2110"
      },
      "outputs": [
        {
          "name": "stdout",
          "output_type": "stream",
          "text": [
            "Shape of X_train_scaled: (454, 10)\n",
            "Shape of X_test_scaled: (114, 10)\n"
          ]
        }
      ],
      "source": [
        "\n",
        "# Perform feature scaling **after** encoding categorical variables\n",
        "scaler = StandardScaler()\n",
        "X_train_scaled = scaler.fit_transform(X_train)  # Fit and transform training data\n",
        "X_test_scaled = scaler.transform(X_test)  # Transform test data using the same scaler\n",
        "# Convert scaled arrays back to DataFrames (optional)\n",
        "X_train_scaled = pd.DataFrame(X_train_scaled, columns=X.columns)\n",
        "X_test_scaled = pd.DataFrame(X_test_scaled, columns=X.columns)\n",
        "# Verify shapes\n",
        "print(\"Shape of X_train_scaled:\", X_train_scaled.shape)\n",
        "print(\"Shape of X_test_scaled:\", X_test_scaled.shape)"
      ]
    },
    {
      "cell_type": "code",
      "execution_count": null,
      "id": "5501b52c-1d0a-4adf-9960-e903df283d3f",
      "metadata": {
        "id": "5501b52c-1d0a-4adf-9960-e903df283d3f",
        "outputId": "21fc2b60-b746-4a06-bdba-ac2640550288"
      },
      "outputs": [
        {
          "name": "stdout",
          "output_type": "stream",
          "text": [
            "Mean of scaled training data (should be ~0):\n",
            "Age                           0.0\n",
            "Gender                       -0.0\n",
            "Total_Bilirubin               0.0\n",
            "Direct_Bilirubin              0.0\n",
            "Alkaline_Phosphotase          0.0\n",
            "Alamine_Aminotransferase      0.0\n",
            "Aspartate_Aminotransferase    0.0\n",
            "Total_Protiens               -0.0\n",
            "Albumin                       0.0\n",
            "Albumin_and_Globulin_Ratio    0.0\n",
            "dtype: float64\n",
            "\n",
            "Standard deviation of scaled training data (should be ~1):\n",
            "Age                           1.0\n",
            "Gender                        1.0\n",
            "Total_Bilirubin               1.0\n",
            "Direct_Bilirubin              1.0\n",
            "Alkaline_Phosphotase          1.0\n",
            "Alamine_Aminotransferase      1.0\n",
            "Aspartate_Aminotransferase    1.0\n",
            "Total_Protiens                1.0\n",
            "Albumin                       1.0\n",
            "Albumin_and_Globulin_Ratio    1.0\n",
            "dtype: float64\n",
            "Mean of scaled test data (should not necessarily be ~0):\n",
            "Age                           0.10\n",
            "Gender                        0.08\n",
            "Total_Bilirubin               0.30\n",
            "Direct_Bilirubin              0.22\n",
            "Alkaline_Phosphotase         -0.00\n",
            "Alamine_Aminotransferase     -0.02\n",
            "Aspartate_Aminotransferase   -0.07\n",
            "Total_Protiens                0.08\n",
            "Albumin                       0.09\n",
            "Albumin_and_Globulin_Ratio   -0.03\n",
            "dtype: float64\n",
            "\n",
            "Standard deviation of scaled test data (should not necessarily be ~1):\n",
            "Age                           0.98\n",
            "Gender                        0.96\n",
            "Total_Bilirubin               1.83\n",
            "Direct_Bilirubin              1.34\n",
            "Alkaline_Phosphotase          0.85\n",
            "Alamine_Aminotransferase      0.66\n",
            "Aspartate_Aminotransferase    0.67\n",
            "Total_Protiens                1.03\n",
            "Albumin                       0.97\n",
            "Albumin_and_Globulin_Ratio    0.89\n",
            "dtype: float64\n"
          ]
        }
      ],
      "source": [
        "print(\"Mean of scaled training data (should be ~0):\")\n",
        "print(np.round(X_train_scaled.mean(), 2))\n",
        "\n",
        "print(\"\\nStandard deviation of scaled training data (should be ~1):\")\n",
        "print(np.round(X_train_scaled.std(), 2))\n",
        "\n",
        "print(\"Mean of scaled test data (should not necessarily be ~0):\")\n",
        "print(np.round(X_test_scaled.mean(), 2))\n",
        "\n",
        "print(\"\\nStandard deviation of scaled test data (should not necessarily be ~1):\")\n",
        "print(np.round(X_test_scaled.std(), 2))"
      ]
    },
    {
      "cell_type": "code",
      "execution_count": null,
      "id": "a1145bf8-5429-4022-afbe-4d1f5f9433aa",
      "metadata": {
        "id": "a1145bf8-5429-4022-afbe-4d1f5f9433aa",
        "outputId": "2da56239-9ccd-494b-8176-5258119b5b2b"
      },
      "outputs": [
        {
          "name": "stdout",
          "output_type": "stream",
          "text": [
            "Class distribution in y_train:\n",
            "Dataset\n",
            "1    323\n",
            "0    131\n",
            "Name: count, dtype: int64\n"
          ]
        }
      ],
      "source": [
        "print(\"Class distribution in y_train:\")\n",
        "print(y_train.value_counts())"
      ]
    },
    {
      "cell_type": "code",
      "execution_count": null,
      "id": "e1b167ab-a7a5-49d2-bbb9-5a47e4c576b4",
      "metadata": {
        "id": "e1b167ab-a7a5-49d2-bbb9-5a47e4c576b4"
      },
      "outputs": [],
      "source": [
        "# Apply SMOTE to training set\n",
        "smote = SMOTE(random_state=42)\n",
        "X_train_smote, y_train_smote = smote.fit_resample(X_train_scaled, y_train)"
      ]
    },
    {
      "cell_type": "code",
      "execution_count": null,
      "id": "ce0ebba4-1baa-4f8c-a383-526c3dbda142",
      "metadata": {
        "id": "ce0ebba4-1baa-4f8c-a383-526c3dbda142",
        "outputId": "832fe94c-a2e1-4307-9549-334f18bf68e5"
      },
      "outputs": [
        {
          "name": "stdout",
          "output_type": "stream",
          "text": [
            "Class distribution after SMOTE:\n",
            "Dataset\n",
            "1    323\n",
            "0    323\n",
            "Name: count, dtype: int64\n"
          ]
        }
      ],
      "source": [
        "# Verify the class distribution after SMOTE\n",
        "print(\"Class distribution after SMOTE:\")\n",
        "print(pd.Series(y_train_smote).value_counts())\n"
      ]
    },
    {
      "cell_type": "code",
      "execution_count": null,
      "id": "db22d58c-200a-43e7-b543-939f8da4ea8e",
      "metadata": {
        "id": "db22d58c-200a-43e7-b543-939f8da4ea8e",
        "outputId": "5c6dbb07-bb8a-46d2-b254-553a07ec38ee"
      },
      "outputs": [
        {
          "name": "stdout",
          "output_type": "stream",
          "text": [
            "Selected features by Elastic Net: ['Age', 'Total_Bilirubin', 'Direct_Bilirubin', 'Alkaline_Phosphotase', 'Aspartate_Aminotransferase']\n",
            "Shape of X_train_selected after feature selection: (646, 5)\n",
            "Shape of X_test_selected after feature selection: (114, 5)\n"
          ]
        }
      ],
      "source": [
        "# Implement Elastic Net for feature selection\n",
        "elastic_net = ElasticNet(alpha=0.1, l1_ratio=0.5, random_state=42)\n",
        "elastic_net.fit(X_train_smote, y_train_smote)\n",
        "\n",
        "# Select features with non-zero coefficients\n",
        "feature_importance = pd.Series(elastic_net.coef_, index=X_train_smote.columns)\n",
        "selected_features = feature_importance[feature_importance != 0].index.tolist()\n",
        "\n",
        "# Use selected features\n",
        "X_train_selected = X_train_smote[selected_features]\n",
        "X_test_selected = X_test_scaled[selected_features]\n",
        "\n",
        "# Print results\n",
        "print(\"Selected features by Elastic Net:\", selected_features)\n",
        "print(\"Shape of X_train_selected after feature selection:\", X_train_selected.shape)\n",
        "print(\"Shape of X_test_selected after feature selection:\", X_test_selected.shape)"
      ]
    },
    {
      "cell_type": "code",
      "execution_count": null,
      "id": "08a84657-7a6b-4fc1-80af-5043ccf40cbb",
      "metadata": {
        "id": "08a84657-7a6b-4fc1-80af-5043ccf40cbb",
        "outputId": "3b980de0-2b3f-44d8-e640-1dcb2de30636"
      },
      "outputs": [
        {
          "name": "stdout",
          "output_type": "stream",
          "text": [
            "Logistic Regression Classification Report:\n",
            "              precision    recall  f1-score   support\n",
            "\n",
            "           0       0.51      0.85      0.64        33\n",
            "           1       0.92      0.67      0.77        81\n",
            "\n",
            "    accuracy                           0.72       114\n",
            "   macro avg       0.71      0.76      0.70       114\n",
            "weighted avg       0.80      0.72      0.73       114\n",
            "\n",
            "ROC-AUC Score: 0.8189300411522633\n"
          ]
        },
        {
          "data": {
            "image/png": "[encoded data removed]",
            "text/plain": [
              "<Figure size 640x480 with 2 Axes>"
            ]
          },
          "metadata": {},
          "output_type": "display_data"
        }
      ],
      "source": [
        "from sklearn.linear_model import LogisticRegression\n",
        "from sklearn.metrics import classification_report, roc_auc_score, confusion_matrix\n",
        "\n",
        "# Train the model\n",
        "log_reg = LogisticRegression(class_weight='balanced',random_state=42)\n",
        "log_reg.fit(X_train_selected, y_train_smote)\n",
        "\n",
        "# Evaluate the model\n",
        "y_pred_log_reg = log_reg.predict(X_test_selected)\n",
        "print(\"Logistic Regression Classification Report:\")\n",
        "print(classification_report(y_test, y_pred_log_reg))\n",
        "print(\"ROC-AUC Score:\", roc_auc_score(y_test, log_reg.predict_proba(X_test_selected)[:, 1]))\n",
        "\n",
        "# Confusion Matrix\n",
        "sns.heatmap(confusion_matrix(y_test, y_pred_log_reg), annot=True, fmt='d', cmap='Blues')\n",
        "plt.title(\"Logistic Regression Confusion Matrix\")\n",
        "plt.show()"
      ]
    },
    {
      "cell_type": "code",
      "execution_count": null,
      "id": "d38a1e07-44db-4dbb-b86e-9a6aacb2d15c",
      "metadata": {
        "id": "d38a1e07-44db-4dbb-b86e-9a6aacb2d15c",
        "outputId": "c4cda383-8a03-4d09-b1fe-70760cf10259"
      },
      "outputs": [
        {
          "name": "stdout",
          "output_type": "stream",
          "text": [
            "Random Forest Classification Report:\n",
            "              precision    recall  f1-score   support\n",
            "\n",
            "           0       0.49      0.61      0.54        33\n",
            "           1       0.82      0.74      0.78        81\n",
            "\n",
            "    accuracy                           0.70       114\n",
            "   macro avg       0.65      0.67      0.66       114\n",
            "weighted avg       0.73      0.70      0.71       114\n",
            "\n",
            "ROC-AUC Score: 0.7976056864945753\n"
          ]
        },
        {
          "data": {
            "image/png": "[encoded data removed]",
            "text/plain": [
              "<Figure size 640x480 with 2 Axes>"
            ]
          },
          "metadata": {},
          "output_type": "display_data"
        }
      ],
      "source": [
        "from sklearn.ensemble import RandomForestClassifier\n",
        "\n",
        "# Train the model\n",
        "rf = RandomForestClassifier(random_state=42)\n",
        "rf.fit(X_train_selected, y_train_smote)\n",
        "\n",
        "# Evaluate the model\n",
        "y_pred_rf = rf.predict(X_test_selected)\n",
        "print(\"Random Forest Classification Report:\")\n",
        "print(classification_report(y_test, y_pred_rf))\n",
        "print(\"ROC-AUC Score:\", roc_auc_score(y_test, rf.predict_proba(X_test_selected)[:, 1]))\n",
        "\n",
        "# Confusion Matrix\n",
        "sns.heatmap(confusion_matrix(y_test, y_pred_rf), annot=True, fmt='d', cmap='Blues')\n",
        "plt.title(\"Random Forest Confusion Matrix\")\n",
        "plt.show()"
      ]
    },
    {
      "cell_type": "code",
      "execution_count": null,
      "id": "19c37d75-36c6-4b25-af25-915e3c6639dd",
      "metadata": {
        "id": "19c37d75-36c6-4b25-af25-915e3c6639dd",
        "outputId": "8d2c04ec-6725-46b0-facd-7e595b9f60fe"
      },
      "outputs": [
        {
          "name": "stdout",
          "output_type": "stream",
          "text": [
            "SVC Classification Report:\n",
            "              precision    recall  f1-score   support\n",
            "\n",
            "           0       0.49      0.88      0.63        33\n",
            "           1       0.93      0.63      0.75        81\n",
            "\n",
            "    accuracy                           0.70       114\n",
            "   macro avg       0.71      0.75      0.69       114\n",
            "weighted avg       0.80      0.70      0.72       114\n",
            "\n",
            "ROC-AUC Score: 0.7919940142162365\n"
          ]
        },
        {
          "data": {
            "image/png": "[encoded data removed]",
            "text/plain": [
              "<Figure size 640x480 with 2 Axes>"
            ]
          },
          "metadata": {},
          "output_type": "display_data"
        }
      ],
      "source": [
        "# Import necessary libraries\n",
        "from sklearn.svm import SVC\n",
        "from sklearn.metrics import classification_report, roc_auc_score, confusion_matrix\n",
        "import seaborn as sns\n",
        "import matplotlib.pyplot as plt\n",
        "\n",
        "# Initialize the SVC model\n",
        "svc = SVC(random_state=42, probability=True)  # Enable probability for ROC-AUC\n",
        "\n",
        "# Train the model\n",
        "svc.fit(X_train_selected, y_train_smote)\n",
        "\n",
        "# Evaluate the model\n",
        "y_pred_svc = svc.predict(X_test_selected)\n",
        "y_pred_proba_svc = svc.predict_proba(X_test_selected)[:, 1]  # Probabilities for ROC-AUC\n",
        "\n",
        "# Classification Report\n",
        "print(\"SVC Classification Report:\")\n",
        "print(classification_report(y_test, y_pred_svc))\n",
        "\n",
        "# ROC-AUC Score\n",
        "print(\"ROC-AUC Score:\", roc_auc_score(y_test, y_pred_proba_svc))\n",
        "\n",
        "# Confusion Matrix\n",
        "conf_matrix = confusion_matrix(y_test, y_pred_svc)\n",
        "sns.heatmap(conf_matrix, annot=True, fmt='d', cmap='Blues', xticklabels=['No Disease', 'Disease'], yticklabels=['No Disease', 'Disease'])\n",
        "plt.title(\"SVC Confusion Matrix\")\n",
        "plt.xlabel(\"Predicted\")\n",
        "plt.ylabel(\"Actual\")\n",
        "plt.show()"
      ]
    },
    {
      "cell_type": "code",
      "execution_count": null,
      "id": "50bf14c3-ce1d-43a6-a5a6-21535907aa00",
      "metadata": {
        "id": "50bf14c3-ce1d-43a6-a5a6-21535907aa00",
        "outputId": "c9ecbf13-bbd2-491b-9e83-71a5a849b1fc"
      },
      "outputs": [
        {
          "name": "stdout",
          "output_type": "stream",
          "text": [
            "k-NN Classification Report:\n",
            "              precision    recall  f1-score   support\n",
            "\n",
            "           0       0.51      0.76      0.61        33\n",
            "           1       0.88      0.70      0.78        81\n",
            "\n",
            "    accuracy                           0.72       114\n",
            "   macro avg       0.69      0.73      0.70       114\n",
            "weighted avg       0.77      0.72      0.73       114\n",
            "\n",
            "ROC-AUC Score: 0.7929292929292929\n"
          ]
        },
        {
          "data": {
            "image/png": "[encoded data removed]",
            "text/plain": [
              "<Figure size 640x480 with 2 Axes>"
            ]
          },
          "metadata": {},
          "output_type": "display_data"
        }
      ],
      "source": [
        "# Import necessary libraries\n",
        "from sklearn.neighbors import KNeighborsClassifier\n",
        "from sklearn.metrics import classification_report, roc_auc_score, confusion_matrix\n",
        "import seaborn as sns\n",
        "import matplotlib.pyplot as plt\n",
        "\n",
        "# Initialize the k-NN model\n",
        "knn = KNeighborsClassifier()\n",
        "\n",
        "# Train the model\n",
        "knn.fit(X_train_selected, y_train_smote)\n",
        "\n",
        "# Evaluate the model\n",
        "y_pred_knn = knn.predict(X_test_selected)\n",
        "y_pred_proba_knn = knn.predict_proba(X_test_selected)[:, 1]  # Probabilities for ROC-AUC\n",
        "\n",
        "# Classification Report\n",
        "print(\"k-NN Classification Report:\")\n",
        "print(classification_report(y_test, y_pred_knn))\n",
        "\n",
        "# ROC-AUC Score\n",
        "print(\"ROC-AUC Score:\", roc_auc_score(y_test, y_pred_proba_knn))\n",
        "\n",
        "# Confusion Matrix\n",
        "conf_matrix = confusion_matrix(y_test, y_pred_knn)\n",
        "sns.heatmap(conf_matrix, annot=True, fmt='d', cmap='Blues', xticklabels=['No Disease', 'Disease'], yticklabels=['No Disease', 'Disease'])\n",
        "plt.title(\"k-NN Confusion Matrix\")\n",
        "plt.xlabel(\"Predicted\")\n",
        "plt.ylabel(\"Actual\")\n",
        "plt.show()"
      ]
    },
    {
      "cell_type": "code",
      "execution_count": null,
      "id": "afce7d08-1c35-4d44-a6f3-ac44239e114e",
      "metadata": {
        "id": "afce7d08-1c35-4d44-a6f3-ac44239e114e",
        "outputId": "29b11163-211f-4ac2-f6e7-ef4dbf220c05"
      },
      "outputs": [
        {
          "name": "stdout",
          "output_type": "stream",
          "text": [
            "LDA Classification Report:\n",
            "              precision    recall  f1-score   support\n",
            "\n",
            "           0       0.45      0.85      0.59        33\n",
            "           1       0.90      0.58      0.71        81\n",
            "\n",
            "    accuracy                           0.66       114\n",
            "   macro avg       0.68      0.71      0.65       114\n",
            "weighted avg       0.77      0.66      0.67       114\n",
            "\n",
            "ROC-AUC Score: 0.7860082304526749\n"
          ]
        },
        {
          "data": {
            "image/png": "[encoded data removed]",
            "text/plain": [
              "<Figure size 640x480 with 2 Axes>"
            ]
          },
          "metadata": {},
          "output_type": "display_data"
        }
      ],
      "source": [
        "# Import necessary libraries\n",
        "from sklearn.discriminant_analysis import LinearDiscriminantAnalysis\n",
        "from sklearn.metrics import classification_report, roc_auc_score, confusion_matrix\n",
        "import seaborn as sns\n",
        "import matplotlib.pyplot as plt\n",
        "\n",
        "# Initialize the LDA model\n",
        "lda = LinearDiscriminantAnalysis()\n",
        "\n",
        "# Train the model\n",
        "lda.fit(X_train_selected, y_train_smote)\n",
        "\n",
        "# Evaluate the model\n",
        "y_pred_lda = lda.predict(X_test_selected)\n",
        "y_pred_proba_lda = lda.predict_proba(X_test_selected)[:, 1]  # Probabilities for ROC-AUC\n",
        "\n",
        "# Classification Report\n",
        "print(\"LDA Classification Report:\")\n",
        "print(classification_report(y_test, y_pred_lda))\n",
        "\n",
        "# ROC-AUC Score\n",
        "print(\"ROC-AUC Score:\", roc_auc_score(y_test, y_pred_proba_lda))\n",
        "\n",
        "# Confusion Matrix\n",
        "conf_matrix = confusion_matrix(y_test, y_pred_lda)\n",
        "sns.heatmap(conf_matrix, annot=True, fmt='d', cmap='Blues', xticklabels=['No Disease', 'Disease'], yticklabels=['No Disease', 'Disease'])\n",
        "plt.title(\"LDA Confusion Matrix\")\n",
        "plt.xlabel(\"Predicted\")\n",
        "plt.ylabel(\"Actual\")\n",
        "plt.show()"
      ]
    },
    {
      "cell_type": "code",
      "execution_count": null,
      "id": "0666831f-e8a4-4d64-b58c-2e44da8bd01a",
      "metadata": {
        "id": "0666831f-e8a4-4d64-b58c-2e44da8bd01a",
        "outputId": "a73a460c-cea0-43aa-9d39-84e66060d826"
      },
      "outputs": [
        {
          "name": "stdout",
          "output_type": "stream",
          "text": [
            "AdaBoost Classification Report:\n",
            "              precision    recall  f1-score   support\n",
            "\n",
            "           0       0.52      0.85      0.64        33\n",
            "           1       0.92      0.68      0.78        81\n",
            "\n",
            "    accuracy                           0.73       114\n",
            "   macro avg       0.72      0.76      0.71       114\n",
            "weighted avg       0.80      0.73      0.74       114\n",
            "\n",
            "ROC-AUC Score: 0.8163112607557051\n"
          ]
        },
        {
          "data": {
            "image/png": "[encoded data removed]",
            "text/plain": [
              "<Figure size 640x480 with 2 Axes>"
            ]
          },
          "metadata": {},
          "output_type": "display_data"
        }
      ],
      "source": [
        "# Import necessary libraries\n",
        "from sklearn.ensemble import AdaBoostClassifier\n",
        "from sklearn.ensemble import RandomForestClassifier\n",
        "from sklearn.metrics import classification_report, roc_auc_score, confusion_matrix\n",
        "import seaborn as sns\n",
        "import matplotlib.pyplot as plt\n",
        "\n",
        "# Initialize the base estimator (weak classifier)\n",
        "base_estimator = SVC(probability=True, kernel='linear', random_state=42)\n",
        "\n",
        "# Initialize the AdaBoost model\n",
        "adaboost = AdaBoostClassifier(\n",
        "    estimator=base_estimator,\n",
        "    n_estimators=30,  # Number of weak learners\n",
        "    learning_rate=0.5,  # Contribution of each weak learner\n",
        "    random_state=42\n",
        ")\n",
        "\n",
        "# Train the model\n",
        "adaboost.fit(X_train_selected, y_train_smote)\n",
        "\n",
        "# Evaluate the model\n",
        "y_pred_adaboost = adaboost.predict(X_test_selected)\n",
        "y_pred_proba_adaboost = adaboost.predict_proba(X_test_selected)[:, 1]  # Probabilities for ROC-AUC\n",
        "\n",
        "# Classification Report\n",
        "print(\"AdaBoost Classification Report:\")\n",
        "print(classification_report(y_test, y_pred_adaboost))\n",
        "\n",
        "# ROC-AUC Score\n",
        "print(\"ROC-AUC Score:\", roc_auc_score(y_test, y_pred_proba_adaboost))\n",
        "\n",
        "# Confusion Matrix\n",
        "conf_matrix = confusion_matrix(y_test, y_pred_adaboost)\n",
        "sns.heatmap(conf_matrix, annot=True, fmt='d', cmap='Blues', xticklabels=['No Disease', 'Disease'], yticklabels=['No Disease', 'Disease'])\n",
        "plt.title(\"AdaBoost Confusion Matrix\")\n",
        "plt.xlabel(\"Predicted\")\n",
        "plt.ylabel(\"Actual\")\n",
        "plt.show()"
      ]
    },
    {
      "cell_type": "code",
      "execution_count": null,
      "id": "570cbd03-3ede-48dc-ba20-7a8942a1abba",
      "metadata": {
        "id": "570cbd03-3ede-48dc-ba20-7a8942a1abba",
        "outputId": "fd05584f-8659-4600-a969-f737fdb7cdfb"
      },
      "outputs": [
        {
          "name": "stdout",
          "output_type": "stream",
          "text": [
            "Bagging Classifier (Decision Tree) Classification Report:\n",
            "              precision    recall  f1-score   support\n",
            "\n",
            "           0       0.51      0.88      0.64        33\n",
            "           1       0.93      0.65      0.77        81\n",
            "\n",
            "    accuracy                           0.72       114\n",
            "   macro avg       0.72      0.77      0.71       114\n",
            "weighted avg       0.81      0.72      0.73       114\n",
            "\n",
            "ROC-AUC Score: 0.8166853722409277\n"
          ]
        },
        {
          "data": {
            "image/png": "[encoded data removed]",
            "text/plain": [
              "<Figure size 640x480 with 2 Axes>"
            ]
          },
          "metadata": {},
          "output_type": "display_data"
        }
      ],
      "source": [
        "#Bagging with Decision Trees\n",
        "# Import necessary libraries\n",
        "from sklearn.ensemble import BaggingClassifier\n",
        "from sklearn.tree import DecisionTreeClassifier\n",
        "from sklearn.metrics import classification_report, roc_auc_score, confusion_matrix\n",
        "import seaborn as sns\n",
        "import matplotlib.pyplot as plt\n",
        "\n",
        "# Initialize the base estimator (Decision Tree)\n",
        "\n",
        "\n",
        "# Initialize the Bagging Classifier\n",
        "bagging_clf = BaggingClassifier(\n",
        "  estimator= LogisticRegression( random_state=42,max_iter=500),\n",
        "    n_estimators=10,\n",
        "    max_samples=1.0,\n",
        "    max_features=1.0,\n",
        "    bootstrap=True,\n",
        "    random_state=42,\n",
        "    n_jobs=-1\n",
        ")\n",
        "\n",
        "# Train the Bagging Classifier\n",
        "bagging_clf.fit(X_train_selected, y_train_smote)\n",
        "\n",
        "# Evaluate the model\n",
        "y_pred_bagging = bagging_clf.predict(X_test_selected)\n",
        "y_pred_proba_bagging = bagging_clf.predict_proba(X_test_selected)[:, 1]  # Probabilities for ROC-AUC\n",
        "\n",
        "# Classification Report\n",
        "print(\"Bagging Classifier (Decision Tree) Classification Report:\")\n",
        "print(classification_report(y_test, y_pred_bagging))\n",
        "\n",
        "# ROC-AUC Score\n",
        "print(\"ROC-AUC Score:\", roc_auc_score(y_test, y_pred_proba_bagging))\n",
        "\n",
        "# Confusion Matrix\n",
        "conf_matrix = confusion_matrix(y_test, y_pred_bagging)\n",
        "sns.heatmap(conf_matrix, annot=True, fmt='d', cmap='Blues', xticklabels=['No Disease', 'Disease'], yticklabels=['No Disease', 'Disease'])\n",
        "plt.title(\"Bagging Classifier (Decision Tree) Confusion Matrix\")\n",
        "plt.xlabel(\"Predicted\")\n",
        "plt.ylabel(\"Actual\")\n",
        "plt.show()"
      ]
    },
    {
      "cell_type": "code",
      "execution_count": null,
      "id": "f36fd1e3-f9f2-4a87-941e-7f5ac74886e5",
      "metadata": {
        "id": "f36fd1e3-f9f2-4a87-941e-7f5ac74886e5"
      },
      "outputs": [],
      "source": [
        "#('dt', DecisionTreeClassifier(random_state=42)),\n",
        "   #('rf', RandomForestClassifier(random_state=42)),\n",
        "#('mlp', MLPClassifier(random_state=42, max_iter=500)),\n",
        "   #('svc', SVC(probability=True, random_state=42)),\n",
        " #('nb', GaussianNB()),\n",
        "# ('bagging', BaggingClassifier(base_estimator=GradientBoostingClassifier(), random_state=42)),\n",
        "    #('gb', GradientBoostingClassifier(random_state=42))"
      ]
    },
    {
      "cell_type": "code",
      "execution_count": null,
      "id": "f6d16e0d-bccb-4cfd-8dcb-67fca1f50fdd",
      "metadata": {
        "id": "f6d16e0d-bccb-4cfd-8dcb-67fca1f50fdd",
        "outputId": "abb23c2c-1111-4b1a-b755-c39598f6c1f4"
      },
      "outputs": [
        {
          "name": "stdout",
          "output_type": "stream",
          "text": [
            "Classification Report:\n",
            "              precision    recall  f1-score   support\n",
            "\n",
            "           0       0.62      0.79      0.69        33\n",
            "           1       0.90      0.80      0.85        81\n",
            "\n",
            "    accuracy                           0.80       114\n",
            "   macro avg       0.76      0.80      0.77       114\n",
            "weighted avg       0.82      0.80      0.80       114\n",
            "\n",
            "ROC-AUC Score: 0.842499064721287\n"
          ]
        }
      ],
      "source": [
        "# Import libraries\n",
        "from sklearn.ensemble import StackingClassifier, RandomForestClassifier\n",
        "from sklearn.ensemble import GradientBoostingClassifier, BaggingClassifier\n",
        "from catboost import CatBoostClassifier\n",
        "from lightgbm import LGBMClassifier\n",
        "from sklearn.neural_network import MLPClassifier\n",
        "from xgboost import XGBClassifier\n",
        "from sklearn.metrics import classification_report, roc_auc_score\n",
        "from sklearn.neighbors import KNeighborsClassifier\n",
        "from sklearn.svm import SVC\n",
        "from sklearn.naive_bayes import GaussianNB\n",
        "\n",
        "# Base models\n",
        "base_models = [\n",
        "\n",
        "   ('lr', LogisticRegression(random_state=42)),\n",
        "   ('xgb', XGBClassifier(random_state=42)),\n",
        "  ('knn', KNeighborsClassifier()),\n",
        "   ('lgbm', LGBMClassifier(random_state=42)),\n",
        "   ('catboost', CatBoostClassifier(verbose=0, random_state=42)),\n",
        "    ]\n",
        "\n",
        "# Meta-classifier\n",
        "meta_classifier = GradientBoostingClassifier(random_state=42)\n",
        "\n",
        "# Stacking Classifier\n",
        "stacking_clf = StackingClassifier(\n",
        "    estimators=base_models,\n",
        "    final_estimator=meta_classifier,\n",
        "    stack_method='auto',\n",
        "    cv=5,\n",
        "    n_jobs=-1\n",
        ")\n",
        "\n",
        "# Train and evaluate\n",
        "stacking_clf.fit(X_train_selected, y_train_smote)\n",
        "y_pred = stacking_clf.predict(X_test_selected)\n",
        "y_pred_proba = stacking_clf.predict_proba(X_test_selected)[:, 1]\n",
        "\n",
        "# Evaluation\n",
        "print(\"Classification Report:\")\n",
        "print(classification_report(y_test, y_pred))\n",
        "print(\"ROC-AUC Score:\", roc_auc_score(y_test, y_pred_proba))"
      ]
    }
  ],
  "metadata": {
    "kernelspec": {
      "display_name": "Python 3 (ipykernel)",
      "language": "python",
      "name": "python3"
    },
    "language_info": {
      "codemirror_mode": {
        "name": "ipython",
        "version": 3
      },
      "file_extension": ".py",
      "mimetype": "text/x-python",
      "name": "python",
      "nbconvert_exporter": "python",
      "pygments_lexer": "ipython3",
      "version": "3.11.7"
    },
    "colab": {
      "provenance": []
    }
  },
  "nbformat": 4,
  "nbformat_minor": 5
}